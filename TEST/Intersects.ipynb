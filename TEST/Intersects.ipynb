{
 "cells": [
  {
   "cell_type": "markdown",
   "metadata": {},
   "source": [
    "# outcell vs in-hex"
   ]
  },
  {
   "cell_type": "code",
   "execution_count": 1,
   "metadata": {},
   "outputs": [],
   "source": [
    "import sys\n",
    "from pathlib import Path\n",
    "\n",
    "sys.path.append(str(Path.cwd().parent))\n",
    "\n",
    "import numpy as np\n",
    "\n",
    "from Utils import hexagon, square"
   ]
  },
  {
   "cell_type": "code",
   "execution_count": 2,
   "metadata": {},
   "outputs": [
    {
     "name": "stdout",
     "output_type": "stream",
     "text": [
      "[[ 0.5  0.5]\n",
      " [-0.5  0.5]\n",
      " [-0.5 -0.5]\n",
      " [ 0.5 -0.5]]\n",
      "[0.  1.2 2.4 3.6]\n",
      "[[[ 0.5  0.5]\n",
      "  [-0.5  0.5]\n",
      "  [-0.5 -0.5]\n",
      "  [ 0.5 -0.5]]\n",
      "\n",
      " [[ 1.7  0.5]\n",
      "  [ 0.7  0.5]\n",
      "  [ 0.7 -0.5]\n",
      "  [ 1.7 -0.5]]\n",
      "\n",
      " [[ 2.9  0.5]\n",
      "  [ 1.9  0.5]\n",
      "  [ 1.9 -0.5]\n",
      "  [ 2.9 -0.5]]\n",
      "\n",
      " [[ 4.1  0.5]\n",
      "  [ 3.1  0.5]\n",
      "  [ 3.1 -0.5]\n",
      "  [ 4.1 -0.5]]]\n"
     ]
    }
   ],
   "source": [
    "outcell = square(1, 1)\n",
    "print(outcell)\n",
    "\n",
    "pitch_x = 1.2\n",
    "num = 4\n",
    "\n",
    "offset = np.arange(0, num, dtype=int) * pitch_x\n",
    "print(offset)\n",
    "\n",
    "outcell_mat = np.tile(outcell, (num, 1, 1))\n",
    "outcell_mat[:, :, 0] += offset[:, np.newaxis]\n",
    "print(outcell_mat)"
   ]
  },
  {
   "cell_type": "code",
   "execution_count": 3,
   "metadata": {},
   "outputs": [
    {
     "name": "stdout",
     "output_type": "stream",
     "text": [
      "[[ 4.00000000e+00 -2.30940108e+00]\n",
      " [ 4.00000000e+00  2.30940108e+00]\n",
      " [ 2.82820064e-16  4.61880215e+00]\n",
      " [-4.00000000e+00  2.30940108e+00]\n",
      " [-4.00000000e+00 -2.30940108e+00]\n",
      " [-8.48460191e-16 -4.61880215e+00]]\n",
      "[[ 9.          1.69059892]\n",
      " [ 9.          6.30940108]\n",
      " [ 5.          8.61880215]\n",
      " [ 1.          6.30940108]\n",
      " [ 1.          1.69059892]\n",
      " [ 5.         -0.61880215]]\n"
     ]
    }
   ],
   "source": [
    "inhex = hexagon(4)\n",
    "print(inhex) \n",
    "\n",
    "inhex[:, 0] += 5\n",
    "inhex[:, 1] += 4\n",
    "print(inhex) "
   ]
  },
  {
   "cell_type": "code",
   "execution_count": 4,
   "metadata": {},
   "outputs": [
    {
     "name": "stdout",
     "output_type": "stream",
     "text": [
      "POLYGON ((9 1.6905989232414975, 9 6.309401076758503, 5 8.618802153517006, 1 6.309401076758503, 1.0000000000000004 1.6905989232414966, 4.999999999999999 -0.6188021535170058, 9 1.6905989232414975))\n",
      "[<POLYGON ((0.5 0.5, -0.5 0.5, -0.5 -0.5, 0.5 -0.5, 0.5 0.5))>, <POLYGON ((1.7 0.5, 0.7 0.5, 0.7 -0.5, 1.7 -0.5, 1.7 0.5))>, <POLYGON ((2.9 0.5, 1.9 0.5, 1.9 -0.5, 2.9 -0.5, 2.9 0.5))>, <POLYGON ((4.1 0.5, 3.1 0.5, 3.1 -0.5, 4.1 -0.5, 4.1 0.5))>]\n"
     ]
    }
   ],
   "source": [
    "from shapely.geometry import Polygon\n",
    "\n",
    "inhex = Polygon(inhex)\n",
    "outcells = [Polygon(cell) for cell in outcell_mat]\n",
    "print(inhex)\n",
    "print(outcells)"
   ]
  },
  {
   "cell_type": "code",
   "execution_count": 5,
   "metadata": {},
   "outputs": [
    {
     "data": {
      "image/png": "[encoded data removed]",
      "text/plain": [
       "<Figure size 640x480 with 1 Axes>"
      ]
     },
     "metadata": {},
     "output_type": "display_data"
    }
   ],
   "source": [
    "from shapely.plotting import plot_polygon\n",
    "\n",
    "import matplotlib.pyplot as plt\n",
    "\n",
    "# Plot inhex\n",
    "fig, ax = plt.subplots()\n",
    "plot_polygon(inhex, ax=ax, add_points=False, color='blue', alpha=0.5)\n",
    "\n",
    "# Plot outcells\n",
    "for cell in outcells:\n",
    "    plot_polygon(cell, ax=ax, add_points=False, color='red', alpha=0.5)\n",
    "\n",
    "plt.show()"
   ]
  },
  {
   "cell_type": "code",
   "execution_count": 6,
   "metadata": {},
   "outputs": [
    {
     "name": "stdout",
     "output_type": "stream",
     "text": [
      "True\n"
     ]
    }
   ],
   "source": [
    "intersects = [inhex.intersects(cell) for cell in outcells]\n",
    "print(np.any(intersects))"
   ]
  }
 ],
 "metadata": {
  "kernelspec": {
   "display_name": "env_311",
   "language": "python",
   "name": "python3"
  },
  "language_info": {
   "codemirror_mode": {
    "name": "ipython",
    "version": 3
   },
   "file_extension": ".py",
   "mimetype": "text/x-python",
   "name": "python",
   "nbconvert_exporter": "python",
   "pygments_lexer": "ipython3",
   "version": "3.11.9"
  }
 },
 "nbformat": 4,
 "nbformat_minor": 2
}
